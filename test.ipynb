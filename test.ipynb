{
 "cells": [],
 "metadata": {
  "interpreter": {
   "hash": "f1e6686d8157a72333d6c7290e12a7b16aa121841fdb309d8a83e0abefbefaae"
  },
  "kernelspec": {
   "display_name": "Python 3.8.12 64-bit ('ood': conda)",
   "language": "python",
   "name": "python3"
  },
  "language_info": {
   "codemirror_mode": {
    "name": "ipython",
    "version": 3
   },
   "file_extension": ".py",
   "mimetype": "text/x-python",
   "name": "python",
   "nbconvert_exporter": "python",
   "pygments_lexer": "ipython3",
   "version": "3.8.12"
  },
  "orig_nbformat": 4
 },
 "nbformat": 4,
 "nbformat_minor": 2
}
