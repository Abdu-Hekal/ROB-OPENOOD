{
 "cells": [
  {
   "cell_type": "code",
   "execution_count": 1,
   "metadata": {},
   "outputs": [
    {
     "name": "stderr",
     "output_type": "stream",
     "text": [
      "/home/jz288/anaconda3/envs/testood/lib/python3.8/site-packages/tqdm/auto.py:21: TqdmWarning: IProgress not found. Please update jupyter and ipywidgets. See https://ipywidgets.readthedocs.io/en/stable/user_install.html\n",
      "  from .autonotebook import tqdm as notebook_tqdm\n"
     ]
    }
   ],
   "source": [
    "from torchvision.models import ResNet50_Weights, Swin_T_Weights, ViT_B_16_Weights\n",
    "from torch.hub import load_state_dict_from_url\n",
    "\n",
    "from openood.evaluation_api import Evaluator\n",
    "from openood.networks import ResNet50, Swin_T, ViT_B_16\n",
    "\n",
    "from openood.networks.conf_branch_net import ConfBranchNet\n",
    "from openood.networks.godin_net import GodinNet\n",
    "from openood.networks.rot_net import RotNet\n",
    "from openood.networks.cider_net import CIDERNet"
   ]
  },
  {
   "attachments": {},
   "cell_type": "markdown",
   "metadata": {},
   "source": [
    "# Load pre-trained model"
   ]
  },
  {
   "cell_type": "code",
   "execution_count": 2,
   "metadata": {},
   "outputs": [],
   "source": [
    "arch = 'resnet50' # ['resnet50', 'swin-t', 'vit-b-16']\n",
    "tvs_version = 1   # we are using torchvison V1 weights\n",
    "\n",
    "if arch == 'resnet50':\n",
    "    net = ResNet50()\n",
    "    weights = eval(f'ResNet50_Weights.IMAGENET1K_V{tvs_version}')\n",
    "    net.load_state_dict(load_state_dict_from_url(weights.url))\n",
    "    preprocessor = weights.transforms()\n",
    "elif arch == 'swin-t':\n",
    "    net = Swin_T()\n",
    "    weights = eval(f'Swin_T_Weights.IMAGENET1K_V{tvs_version}')\n",
    "    net.load_state_dict(load_state_dict_from_url(weights.url))\n",
    "    preprocessor = weights.transforms()\n",
    "elif arch == 'vit-b-16':\n",
    "    net = ViT_B_16()\n",
    "    weights = eval(f'ViT_B_16_Weights.IMAGENET1K_V{tvs_version}')\n",
    "    net.load_state_dict(load_state_dict_from_url(weights.url))\n",
    "    preprocessor = weights.transforms()\n",
    "\n",
    "net.cuda()\n",
    "net.eval();"
   ]
  },
  {
   "attachments": {},
   "cell_type": "markdown",
   "metadata": {},
   "source": [
    "# Initialize an evaluator instance"
   ]
  },
  {
   "cell_type": "code",
   "execution_count": 3,
   "metadata": {},
   "outputs": [
    {
     "name": "stderr",
     "output_type": "stream",
     "text": [
      "Downloading...\n",
      "From (uriginal): https://drive.google.com/uc?id=1kXO8ESkF2GemrycdWM0sFCKH31731GPp\n",
      "From (redirected): https://drive.google.com/uc?id=1kXO8ESkF2GemrycdWM0sFCKH31731GPp&confirm=t&uuid=bb3b4ef2-04ca-49f5-bb93-0ca9bf5091dc\n",
      "To: /home/jz288/dev_openood/OpenOOD/test_root/data/benchmark_imglist.zip\n",
      "100%|██████████| 28.0M/28.0M [00:00<00:00, 38.8MB/s]\n"
     ]
    },
    {
     "name": "stdout",
     "output_type": "stream",
     "text": [
      "imagenet_1k needs download:\n",
      "test_root/data/images_largescale/imagenet_1k\n"
     ]
    },
    {
     "name": "stderr",
     "output_type": "stream",
     "text": [
      "Downloading...\n",
      "From (uriginal): https://drive.google.com/uc?id=1i1ipLDFARR-JZ9argXd2-0a6DXwVhXEj\n",
      "From (redirected): https://drive.google.com/uc?id=1i1ipLDFARR-JZ9argXd2-0a6DXwVhXEj&confirm=t&uuid=b520bd57-309a-452c-bc71-8c9d3a389c8e\n",
      "To: /home/jz288/dev_openood/OpenOOD/test_root/data/images_largescale/imagenet_1k/imagenet_1k.zip\n",
      "100%|██████████| 6.67G/6.67G [01:19<00:00, 83.8MB/s]\n"
     ]
    },
    {
     "name": "stdout",
     "output_type": "stream",
     "text": [
      "species_sub needs download:\n",
      "test_root/data/images_largescale/species_sub\n"
     ]
    },
    {
     "name": "stderr",
     "output_type": "stream",
     "text": [
      "Downloading...\n",
      "From (uriginal): https://drive.google.com/uc?id=1-JCxDx__iFMExkYRMylnGJYTPvyuX6aq\n",
      "From (redirected): https://drive.google.com/uc?id=1-JCxDx__iFMExkYRMylnGJYTPvyuX6aq&confirm=t&uuid=a48d601c-f209-459a-bdda-9d593363efd0\n",
      "To: /home/jz288/dev_openood/OpenOOD/test_root/data/images_largescale/species_sub/species_sub.zip\n",
      "100%|██████████| 1.23G/1.23G [00:34<00:00, 35.8MB/s]\n"
     ]
    },
    {
     "name": "stdout",
     "output_type": "stream",
     "text": [
      "imagenet_21k needs download:\n",
      "test_root/data/images_largescale/imagenet_21k\n"
     ]
    },
    {
     "name": "stderr",
     "output_type": "stream",
     "text": [
      "Downloading...\n",
      "From (uriginal): https://drive.google.com/uc?id=1PzkA-WGG8Z18h0ooL_pDdz9cO-DCIouE\n",
      "From (redirected): https://drive.google.com/uc?id=1PzkA-WGG8Z18h0ooL_pDdz9cO-DCIouE&confirm=t&uuid=2c4fb47e-2b5f-4d76-adb4-de16b98b000f\n",
      "To: /home/jz288/dev_openood/OpenOOD/test_root/data/images_largescale/imagenet_21k/imagenet_21k.zip\n",
      "100%|██████████| 1.06G/1.06G [00:14<00:00, 70.7MB/s]\n"
     ]
    },
    {
     "name": "stdout",
     "output_type": "stream",
     "text": [
      "inaturalist needs download:\n",
      "test_root/data/images_largescale/inaturalist\n"
     ]
    },
    {
     "name": "stderr",
     "output_type": "stream",
     "text": [
      "Downloading...\n",
      "From (uriginal): https://drive.google.com/uc?id=1zfLfMvoUD0CUlKNnkk7LgxZZBnTBipdj\n",
      "From (redirected): https://drive.google.com/uc?id=1zfLfMvoUD0CUlKNnkk7LgxZZBnTBipdj&confirm=t&uuid=a0caaffb-5c7f-4f5a-a612-77def0c3797b\n",
      "To: /home/jz288/dev_openood/OpenOOD/test_root/data/images_largescale/inaturalist/inaturalist.zip\n",
      "100%|██████████| 3.95G/3.95G [01:21<00:00, 48.3MB/s]\n"
     ]
    },
    {
     "name": "stdout",
     "output_type": "stream",
     "text": [
      "places needs download:\n",
      "test_root/data/images_largescale/places\n"
     ]
    },
    {
     "name": "stderr",
     "output_type": "stream",
     "text": [
      "Downloading...\n",
      "From (uriginal): https://drive.google.com/uc?id=1fZ8TbPC4JGqUCm-VtvrmkYxqRNp2PoB3\n",
      "From (redirected): https://drive.google.com/uc?id=1fZ8TbPC4JGqUCm-VtvrmkYxqRNp2PoB3&confirm=t&uuid=d41ede62-73af-443a-8590-f7aa4ffc1be1\n",
      "To: /home/jz288/dev_openood/OpenOOD/test_root/data/images_largescale/places/places.zip\n",
      "100%|██████████| 688M/688M [00:09<00:00, 75.4MB/s] \n"
     ]
    },
    {
     "name": "stdout",
     "output_type": "stream",
     "text": [
      "sun needs download:\n",
      "test_root/data/images_largescale/sun\n"
     ]
    },
    {
     "name": "stderr",
     "output_type": "stream",
     "text": [
      "Downloading...\n",
      "From (uriginal): https://drive.google.com/uc?id=1ISK0STxWzWmg-_uUr4RQ8GSLFW7TZiKp\n",
      "From (redirected): https://drive.google.com/uc?id=1ISK0STxWzWmg-_uUr4RQ8GSLFW7TZiKp&confirm=t&uuid=9d7bb07f-0224-49ae-8b1a-2ce34eaa7e54\n",
      "To: /home/jz288/dev_openood/OpenOOD/test_root/data/images_largescale/sun/sun.zip\n",
      "100%|██████████| 3.85G/3.85G [00:48<00:00, 79.7MB/s]\n"
     ]
    },
    {
     "name": "stdout",
     "output_type": "stream",
     "text": [
      "openimage_o needs download:\n",
      "test_root/data/images_largescale/openimage_o\n"
     ]
    },
    {
     "name": "stderr",
     "output_type": "stream",
     "text": [
      "Downloading...\n",
      "From (uriginal): https://drive.google.com/uc?id=1VUFXnB_z70uHfdgJG2E_pjYOcEgqM7tE\n",
      "From (redirected): https://drive.google.com/uc?id=1VUFXnB_z70uHfdgJG2E_pjYOcEgqM7tE&confirm=t&uuid=0fd62408-801b-49ea-af49-8e4ef8364d36\n",
      "To: /home/jz288/dev_openood/OpenOOD/test_root/data/images_largescale/openimage_o/openimage_o.zip\n",
      "100%|██████████| 620M/620M [00:19<00:00, 31.8MB/s] \n"
     ]
    },
    {
     "name": "stdout",
     "output_type": "stream",
     "text": [
      "texture needs download:\n",
      "test_root/data/images_classic/texture\n"
     ]
    },
    {
     "name": "stderr",
     "output_type": "stream",
     "text": [
      "Downloading...\n",
      "From (uriginal): https://drive.google.com/uc?id=1OSz1m3hHfVWbRdmMwKbUzoU8Hg9UKcam\n",
      "From (redirected): https://drive.google.com/uc?id=1OSz1m3hHfVWbRdmMwKbUzoU8Hg9UKcam&confirm=t&uuid=c3fd7a76-52a0-4a4b-b154-3508a544a3c2\n",
      "To: /home/jz288/dev_openood/OpenOOD/test_root/data/images_classic/texture/texture.zip\n",
      "100%|██████████| 626M/626M [00:13<00:00, 47.1MB/s] \n"
     ]
    },
    {
     "name": "stdout",
     "output_type": "stream",
     "text": [
      "imagenet_v2 needs download:\n",
      "test_root/data/images_largescale/imagenet_v2\n"
     ]
    },
    {
     "name": "stderr",
     "output_type": "stream",
     "text": [
      "Downloading...\n",
      "From (uriginal): https://drive.google.com/uc?id=1akg2IiE22HcbvTBpwXQoD7tgfPCdkoho\n",
      "From (redirected): https://drive.google.com/uc?id=1akg2IiE22HcbvTBpwXQoD7tgfPCdkoho&confirm=t&uuid=d8e297ad-643b-43e3-a487-2a79b8e1fe62\n",
      "To: /home/jz288/dev_openood/OpenOOD/test_root/data/images_largescale/imagenet_v2/imagenet_v2.zip\n",
      "100%|██████████| 1.24G/1.24G [00:17<00:00, 72.3MB/s]\n"
     ]
    },
    {
     "name": "stdout",
     "output_type": "stream",
     "text": [
      "imagenet_c needs download:\n",
      "test_root/data/images_largescale/imagenet_c\n"
     ]
    },
    {
     "name": "stderr",
     "output_type": "stream",
     "text": [
      "Downloading...\n",
      "From (uriginal): https://drive.google.com/uc?id=1JeXL9YH4BO8gCJ631c5BHbaSsl-lekHt\n",
      "From (redirected): https://drive.google.com/uc?id=1JeXL9YH4BO8gCJ631c5BHbaSsl-lekHt&confirm=t&uuid=772a1ba4-7ef5-4668-bc6b-ecdeac344e70\n",
      "To: /home/jz288/dev_openood/OpenOOD/test_root/data/images_largescale/imagenet_c/imagenet_c.zip\n",
      "100%|██████████| 274M/274M [00:03<00:00, 72.7MB/s] \n"
     ]
    },
    {
     "name": "stdout",
     "output_type": "stream",
     "text": [
      "imagenet_r needs download:\n",
      "test_root/data/images_largescale/imagenet_r\n"
     ]
    },
    {
     "name": "stderr",
     "output_type": "stream",
     "text": [
      "Downloading...\n",
      "From (uriginal): https://drive.google.com/uc?id=1EzjMN2gq-bVV7lg-MEAdeuBuz-7jbGYU\n",
      "From (redirected): https://drive.google.com/uc?id=1EzjMN2gq-bVV7lg-MEAdeuBuz-7jbGYU&confirm=t&uuid=1614e8c3-e1c3-4637-8d74-bd24443cddf4\n",
      "To: /home/jz288/dev_openood/OpenOOD/test_root/data/images_largescale/imagenet_r/imagenet_r.zip\n",
      "100%|██████████| 2.09G/2.09G [00:24<00:00, 85.0MB/s]\n"
     ]
    },
    {
     "name": "stdout",
     "output_type": "stream",
     "text": [
      "Starting automatic parameter search...\n"
     ]
    },
    {
     "name": "stderr",
     "output_type": "stream",
     "text": [
      "100%|██████████| 25/25 [00:10<00:00,  2.42it/s]\n",
      "100%|██████████| 9/9 [00:04<00:00,  1.91it/s]\n"
     ]
    },
    {
     "name": "stdout",
     "output_type": "stream",
     "text": [
      "Hyperparam: [65], auroc: 0.918245377197958\n"
     ]
    },
    {
     "name": "stderr",
     "output_type": "stream",
     "text": [
      "100%|██████████| 25/25 [00:09<00:00,  2.64it/s]\n",
      "100%|██████████| 9/9 [00:04<00:00,  1.87it/s]\n"
     ]
    },
    {
     "name": "stdout",
     "output_type": "stream",
     "text": [
      "Hyperparam: [70], auroc: 0.9233468519568917\n"
     ]
    },
    {
     "name": "stderr",
     "output_type": "stream",
     "text": [
      "100%|██████████| 25/25 [00:09<00:00,  2.66it/s]\n",
      "100%|██████████| 9/9 [00:04<00:00,  1.88it/s]\n"
     ]
    },
    {
     "name": "stdout",
     "output_type": "stream",
     "text": [
      "Hyperparam: [75], auroc: 0.9271328417470222\n"
     ]
    },
    {
     "name": "stderr",
     "output_type": "stream",
     "text": [
      "100%|██████████| 25/25 [00:09<00:00,  2.70it/s]\n",
      "100%|██████████| 9/9 [00:04<00:00,  1.88it/s]\n"
     ]
    },
    {
     "name": "stdout",
     "output_type": "stream",
     "text": [
      "Hyperparam: [80], auroc: 0.92958377765173\n"
     ]
    },
    {
     "name": "stderr",
     "output_type": "stream",
     "text": [
      "100%|██████████| 25/25 [00:09<00:00,  2.65it/s]\n",
      "100%|██████████| 9/9 [00:04<00:00,  1.88it/s]\n"
     ]
    },
    {
     "name": "stdout",
     "output_type": "stream",
     "text": [
      "Hyperparam: [85], auroc: 0.9315319909245603\n"
     ]
    },
    {
     "name": "stderr",
     "output_type": "stream",
     "text": [
      "100%|██████████| 25/25 [00:09<00:00,  2.66it/s]\n",
      "100%|██████████| 9/9 [00:04<00:00,  1.84it/s]\n"
     ]
    },
    {
     "name": "stdout",
     "output_type": "stream",
     "text": [
      "Hyperparam: [90], auroc: 0.9323720930232557\n"
     ]
    },
    {
     "name": "stderr",
     "output_type": "stream",
     "text": [
      "100%|██████████| 25/25 [00:09<00:00,  2.66it/s]\n",
      "100%|██████████| 9/9 [00:04<00:00,  1.86it/s]"
     ]
    },
    {
     "name": "stdout",
     "output_type": "stream",
     "text": [
      "Hyperparam: [95], auroc: 0.9285631310266591\n",
      "Final hyperparam: 90\n"
     ]
    },
    {
     "name": "stderr",
     "output_type": "stream",
     "text": [
      "\n"
     ]
    }
   ],
   "source": [
    "# ['openmax', 'msp', 'temp_scaling', 'odin', 'mds', 'mds_ensemble', 'rmds',  \n",
    "#  'gram', 'ebo', 'gradnorm', 'react', 'mls', 'klm', 'vim', 'knn', 'dice', \n",
    "#  'rankfeat', 'ash', 'she']\n",
    "# it also supports some other postprocessors which need dedicated model wrappers\n",
    "# see the full list in scripts/eval_ood.py and scripts/eval_ood_imagenet.py\n",
    "postprocessor_name = 'ash'\n",
    "\n",
    "# the evaluator will automatically download the required datasets\n",
    "# APS (automatic hyperparameter search) will also be performed if necessary\n",
    "evaluator = Evaluator(\n",
    "    net,\n",
    "    id_name='imagenet',                    # the target ID dataset\n",
    "    data_root='./data',            # change if necessary\n",
    "    config_root='./configs',       # change if necessary\n",
    "    preprocessor=preprocessor,             # default preprocessing\n",
    "    postprocessor_name=postprocessor_name, # the postprocessor to use\n",
    "    postprocessor=None,                    # if you want to use your own postprocessor\n",
    "    batch_size=200,                        # for certain methods the results can be slightly affected by batch size\n",
    "    shuffle=False,\n",
    "    num_workers=8)"
   ]
  },
  {
   "attachments": {},
   "cell_type": "markdown",
   "metadata": {},
   "source": [
    "# Run evaluation"
   ]
  },
  {
   "cell_type": "code",
   "execution_count": 4,
   "metadata": {},
   "outputs": [
    {
     "name": "stdout",
     "output_type": "stream",
     "text": [
      "Performing inference on imagenet test set...\n"
     ]
    },
    {
     "name": "stderr",
     "output_type": "stream",
     "text": [
      "100%|██████████| 225/225 [01:05<00:00,  3.46it/s]"
     ]
    },
    {
     "name": "stdout",
     "output_type": "stream",
     "text": [
      "Processing near ood...\n",
      "Performing inference on species dataset...\n"
     ]
    },
    {
     "name": "stderr",
     "output_type": "stream",
     "text": [
      "\n",
      "100%|██████████| 50/50 [00:16<00:00,  3.10it/s]\n"
     ]
    },
    {
     "name": "stdout",
     "output_type": "stream",
     "text": [
      "Computing metrics on species dataset...\n",
      "FPR@95: 67.55, AUROC: 79.53 AUPR_IN: 93.96, AUPR_OUT: 50.95\n",
      "CCR: 0.27, 2.94, 9.98, 41.14, ──────────────────────────────────────────────────────────────────────\n",
      "\n",
      "Performing inference on imagenet_21k dataset...\n"
     ]
    },
    {
     "name": "stderr",
     "output_type": "stream",
     "text": [
      "100%|██████████| 245/245 [01:09<00:00,  3.55it/s]\n"
     ]
    },
    {
     "name": "stdout",
     "output_type": "stream",
     "text": [
      "Computing metrics on imagenet_21k dataset...\n",
      "FPR@95: 83.19, AUROC: 72.89 AUPR_IN: 72.26, AUPR_OUT: 72.10\n",
      "CCR: 0.25, 1.96, 9.55, 34.92, ──────────────────────────────────────────────────────────────────────\n",
      "\n",
      "Computing mean metrics...\n",
      "FPR@95: 75.37, AUROC: 76.21 AUPR_IN: 83.11, AUPR_OUT: 61.53\n",
      "CCR: 0.26, 2.45, 9.77, 38.03, ──────────────────────────────────────────────────────────────────────\n",
      "\n",
      "Processing far ood...\n",
      "Performing inference on inaturalist dataset...\n"
     ]
    },
    {
     "name": "stderr",
     "output_type": "stream",
     "text": [
      "100%|██████████| 50/50 [00:22<00:00,  2.27it/s]\n"
     ]
    },
    {
     "name": "stdout",
     "output_type": "stream",
     "text": [
      "Computing metrics on inaturalist dataset...\n",
      "FPR@95: 15.83, AUROC: 97.07 AUPR_IN: 99.30, AUPR_OUT: 89.29\n",
      "CCR: 5.27, 28.98, 58.67, 71.78, ──────────────────────────────────────────────────────────────────────\n",
      "\n",
      "Performing inference on texture dataset...\n"
     ]
    },
    {
     "name": "stderr",
     "output_type": "stream",
     "text": [
      "100%|██████████| 26/26 [00:09<00:00,  2.68it/s]"
     ]
    },
    {
     "name": "stdout",
     "output_type": "stream",
     "text": [
      "Computing metrics on texture dataset...\n",
      "FPR@95: 16.26, AUROC: 96.90 AUPR_IN: 99.60, AUPR_OUT: 84.12\n",
      "CCR: 10.41, 31.38, 51.96, 71.82, ──────────────────────────────────────────────────────────────────────\n",
      "\n",
      "Performing inference on places dataset...\n"
     ]
    },
    {
     "name": "stderr",
     "output_type": "stream",
     "text": [
      "\n",
      "100%|██████████| 50/50 [00:16<00:00,  3.00it/s]\n"
     ]
    },
    {
     "name": "stdout",
     "output_type": "stream",
     "text": [
      "Computing metrics on places dataset...\n",
      "FPR@95: 43.66, AUROC: 90.48 AUPR_IN: 97.46, AUPR_OUT: 71.63\n",
      "CCR: 0.59, 6.53, 26.71, 61.69, ──────────────────────────────────────────────────────────────────────\n",
      "\n",
      "Performing inference on sun dataset...\n"
     ]
    },
    {
     "name": "stderr",
     "output_type": "stream",
     "text": [
      "100%|██████████| 50/50 [00:36<00:00,  1.38it/s]\n"
     ]
    },
    {
     "name": "stdout",
     "output_type": "stream",
     "text": [
      "Computing metrics on sun dataset...\n",
      "FPR@95: 32.48, AUROC: 93.29 AUPR_IN: 98.24, AUPR_OUT: 79.28\n",
      "CCR: 1.12, 6.23, 37.02, 66.40, ──────────────────────────────────────────────────────────────────────\n",
      "\n",
      "Performing inference on openimage_o dataset...\n"
     ]
    },
    {
     "name": "stderr",
     "output_type": "stream",
     "text": [
      "100%|██████████| 80/80 [00:24<00:00,  3.29it/s]"
     ]
    },
    {
     "name": "stdout",
     "output_type": "stream",
     "text": [
      "Computing metrics on openimage_o dataset...\n",
      "FPR@95: 34.51, AUROC: 93.26 AUPR_IN: 97.45, AUPR_OUT: 84.00\n",
      "CCR: 10.31, 18.47, 42.67, 66.16, ──────────────────────────────────────────────────────────────────────\n",
      "\n",
      "Computing mean metrics...\n",
      "FPR@95: 28.55, AUROC: 94.20 AUPR_IN: 98.41, AUPR_OUT: 81.67\n",
      "CCR: 5.54, 18.32, 43.40, 67.57, ──────────────────────────────────────────────────────────────────────\n",
      "\n"
     ]
    },
    {
     "name": "stderr",
     "output_type": "stream",
     "text": [
      "\n",
      "ID Acc Eval: 100%|██████████| 225/225 [01:02<00:00,  3.59it/s]"
     ]
    },
    {
     "name": "stdout",
     "output_type": "stream",
     "text": [
      "              FPR@95  AUROC  AUPR_IN  AUPR_OUT  CCR_4  CCR_3  CCR_2  CCR_1   \n",
      "species        67.55  79.53    93.96     50.95   0.27   2.94   9.98  41.14  \\\n",
      "imagenet_21k   83.19  72.89    72.26     72.10   0.25   1.96   9.55  34.92   \n",
      "nearood        75.37  76.21    83.11     61.53   0.26   2.45   9.77  38.03   \n",
      "inaturalist    15.83  97.07    99.30     89.29   5.27  28.98  58.67  71.78   \n",
      "texture        16.26  96.90    99.60     84.12  10.41  31.38  51.96  71.82   \n",
      "places         43.66  90.48    97.46     71.63   0.59   6.53  26.71  61.69   \n",
      "sun            32.48  93.29    98.24     79.28   1.12   6.23  37.02  66.40   \n",
      "openimage_o    34.51  93.26    97.45     84.00  10.31  18.47  42.67  66.16   \n",
      "farood         28.55  94.20    98.41     81.67   5.54  18.32  43.40  67.57   \n",
      "\n",
      "               ACC  \n",
      "species      76.18  \n",
      "imagenet_21k 76.18  \n",
      "nearood      76.18  \n",
      "inaturalist  76.18  \n",
      "texture      76.18  \n",
      "places       76.18  \n",
      "sun          76.18  \n",
      "openimage_o  76.18  \n",
      "farood       76.18  \n",
      "                 FPR@95      AUROC    AUPR_IN   AUPR_OUT      CCR_4   \n",
      "species       67.550000  79.532384  93.955094  50.948081   0.268889  \\\n",
      "imagenet_21k  83.191837  72.886246  72.260549  72.103633   0.253333   \n",
      "nearood       75.370918  76.209315  83.107822  61.525857   0.261111   \n",
      "inaturalist   15.830000  97.066286  99.302929  89.291921   5.271111   \n",
      "texture       16.259690  96.904179  99.598250  84.123473  10.408889   \n",
      "places        43.660000  90.481741  97.463121  71.626180   0.586667   \n",
      "sun           32.480000  93.291877  98.236495  79.281219   1.120000   \n",
      "openimage_o   34.507530  93.257346  97.454024  84.003587  10.311111   \n",
      "farood        28.547444  94.200286  98.410964  81.665276   5.539556   \n",
      "\n",
      "                  CCR_3      CCR_2      CCR_1        ACC  \n",
      "species        2.940000   9.984444  41.135556  76.184444  \n",
      "imagenet_21k   1.964444   9.546667  34.917778  76.184444  \n",
      "nearood        2.452222   9.765556  38.026667  76.184444  \n",
      "inaturalist   28.984444  58.668889  71.780000  76.184444  \n",
      "texture       31.384444  51.960000  71.815556  76.184444  \n",
      "places         6.528889  26.706667  61.691111  76.184444  \n",
      "sun            6.233333  37.015556  66.397778  76.184444  \n",
      "openimage_o   18.471111  42.668889  66.155556  76.184444  \n",
      "farood        18.320444  43.404000  67.568000  76.184444  \n"
     ]
    },
    {
     "name": "stderr",
     "output_type": "stream",
     "text": [
      "\n"
     ]
    }
   ],
   "source": [
    "# standard OOD detection\n",
    "# the returned metrics is a dataframe\n",
    "metrics = evaluator.eval_ood(fsood=False)\n",
    "print(metrics)"
   ]
  },
  {
   "cell_type": "code",
   "execution_count": 5,
   "metadata": {},
   "outputs": [
    {
     "name": "stdout",
     "output_type": "stream",
     "text": [
      "Performing inference on imagenet (cs) test set [1]: imagenet_v2...\n"
     ]
    },
    {
     "name": "stderr",
     "output_type": "stream",
     "text": [
      "100%|██████████| 50/50 [00:16<00:00,  3.07it/s]"
     ]
    },
    {
     "name": "stdout",
     "output_type": "stream",
     "text": [
      "Performing inference on imagenet (cs) test set [2]: imagenet_c...\n"
     ]
    },
    {
     "name": "stderr",
     "output_type": "stream",
     "text": [
      "\n",
      "100%|██████████| 50/50 [00:15<00:00,  3.29it/s]\n"
     ]
    },
    {
     "name": "stdout",
     "output_type": "stream",
     "text": [
      "Performing inference on imagenet (cs) test set [3]: imagenet_r...\n"
     ]
    },
    {
     "name": "stderr",
     "output_type": "stream",
     "text": [
      "100%|██████████| 150/150 [00:43<00:00,  3.41it/s]"
     ]
    },
    {
     "name": "stdout",
     "output_type": "stream",
     "text": [
      "Processing near ood...\n"
     ]
    },
    {
     "name": "stderr",
     "output_type": "stream",
     "text": [
      "\n"
     ]
    },
    {
     "name": "stdout",
     "output_type": "stream",
     "text": [
      "Inference has been performed on species dataset...\n",
      "Computing metrics on species dataset...\n",
      "FPR@95: 90.09, AUROC: 63.25 AUPR_IN: 94.35, AUPR_OUT: 13.69\n",
      "CCR: 0.14, 1.64, 5.66, 25.14, ──────────────────────────────────────────────────────────────────────\n",
      "\n",
      "Inference has been performed on imagenet_21k dataset...\n",
      "Computing metrics on imagenet_21k dataset...\n",
      "FPR@95: 95.70, AUROC: 54.66 AUPR_IN: 73.65, AUPR_OUT: 34.93\n",
      "CCR: 0.13, 1.08, 5.41, 21.02, ──────────────────────────────────────────────────────────────────────\n",
      "\n",
      "Computing mean metrics...\n",
      "FPR@95: 92.90, AUROC: 58.96 AUPR_IN: 84.00, AUPR_OUT: 24.31\n",
      "CCR: 0.14, 1.36, 5.53, 23.08, ──────────────────────────────────────────────────────────────────────\n",
      "\n",
      "Processing far ood...\n",
      "Inference has been performed on inaturalist dataset...\n",
      "Computing metrics on inaturalist dataset...\n",
      "FPR@95: 54.58, AUROC: 89.23 AUPR_IN: 98.72, AUPR_OUT: 43.79\n",
      "CCR: 2.95, 17.18, 37.87, 49.46, ──────────────────────────────────────────────────────────────────────\n",
      "\n",
      "Inference has been performed on texture dataset...\n",
      "Computing metrics on texture dataset...\n",
      "FPR@95: 50.47, AUROC: 89.53 AUPR_IN: 99.33, AUPR_OUT: 34.78\n",
      "CCR: 5.92, 18.73, 32.82, 49.50, ──────────────────────────────────────────────────────────────────────\n",
      "\n",
      "Inference has been performed on places dataset...\n",
      "Computing metrics on places dataset...\n",
      "FPR@95: 80.18, AUROC: 77.16 AUPR_IN: 96.93, AUPR_OUT: 23.06\n",
      "CCR: 0.31, 3.67, 15.73, 40.26, ──────────────────────────────────────────────────────────────────────\n",
      "\n",
      "Inference has been performed on sun dataset...\n",
      "Computing metrics on sun dataset...\n",
      "FPR@95: 71.62, AUROC: 82.02 AUPR_IN: 97.66, AUPR_OUT: 30.74\n",
      "CCR: 0.60, 3.50, 22.39, 44.23, ──────────────────────────────────────────────────────────────────────\n",
      "\n",
      "Inference has been performed on openimage_o dataset...\n",
      "Computing metrics on openimage_o dataset...\n",
      "FPR@95: 73.62, AUROC: 81.47 AUPR_IN: 96.39, AUPR_OUT: 39.33\n",
      "CCR: 5.86, 10.63, 26.20, 44.02, ──────────────────────────────────────────────────────────────────────\n",
      "\n",
      "Computing mean metrics...\n",
      "FPR@95: 66.09, AUROC: 83.88 AUPR_IN: 97.81, AUPR_OUT: 34.34\n",
      "CCR: 3.13, 10.74, 27.00, 45.49, ──────────────────────────────────────────────────────────────────────\n",
      "\n"
     ]
    },
    {
     "name": "stderr",
     "output_type": "stream",
     "text": [
      "CSID imagenet_v2 Acc Eval: 100%|██████████| 50/50 [00:15<00:00,  3.16it/s]\n",
      "CSID imagenet_c Acc Eval: 100%|██████████| 50/50 [00:14<00:00,  3.39it/s]\n",
      "CSID imagenet_r Acc Eval: 100%|██████████| 150/150 [00:42<00:00,  3.53it/s]"
     ]
    },
    {
     "name": "stdout",
     "output_type": "stream",
     "text": [
      "              FPR@95  AUROC  AUPR_IN  AUPR_OUT  CCR_4  CCR_3  CCR_2  CCR_1   \n",
      "species        90.09  63.25    94.35     13.69   0.14   1.64   5.66  25.14  \\\n",
      "imagenet_21k   95.70  54.66    73.65     34.93   0.13   1.08   5.41  21.02   \n",
      "nearood        92.90  58.96    84.00     24.31   0.14   1.36   5.53  23.08   \n",
      "inaturalist    54.58  89.23    98.72     43.79   2.95  17.18  37.87  49.46   \n",
      "texture        50.47  89.53    99.33     34.78   5.92  18.73  32.82  49.50   \n",
      "places         80.18  77.16    96.93     23.06   0.31   3.67  15.73  40.26   \n",
      "sun            71.62  82.02    97.66     30.74   0.60   3.50  22.39  44.23   \n",
      "openimage_o    73.62  81.47    96.39     39.33   5.86  10.63  26.20  44.02   \n",
      "farood         66.09  83.88    97.81     34.34   3.13  10.74  27.00  45.49   \n",
      "\n",
      "               ACC  \n",
      "species      54.35  \n",
      "imagenet_21k 54.35  \n",
      "nearood      54.35  \n",
      "inaturalist  54.35  \n",
      "texture      54.35  \n",
      "places       54.35  \n",
      "sun          54.35  \n",
      "openimage_o  54.35  \n",
      "farood       54.35  \n"
     ]
    },
    {
     "name": "stderr",
     "output_type": "stream",
     "text": [
      "\n"
     ]
    }
   ],
   "source": [
    "# full-spectrum OOD detection\n",
    "# would be much faster if you have ran the standard OOD detection\n",
    "# since the OOD scores can be reused\n",
    "fs_metrics = evaluator.eval_ood(fsood=True)"
   ]
  },
  {
   "cell_type": "code",
   "execution_count": 9,
   "metadata": {},
   "outputs": [
    {
     "name": "stdout",
     "output_type": "stream",
     "text": [
      "dict_keys(['id_acc', 'csid_acc', 'ood', 'fsood'])\n",
      "dict_keys(['id', 'csid', 'ood', 'id_preds', 'id_labels', 'csid_preds', 'csid_labels'])\n",
      "dict_keys(['species', 'imagenet_21k'])\n",
      "dict_keys(['inaturalist', 'texture', 'places', 'sun', 'openimage_o'])\n"
     ]
    }
   ],
   "source": [
    "# the metrics and OOD scores are available as attributes\n",
    "print(evaluator.metrics.keys())\n",
    "print(evaluator.scores.keys())\n",
    "print(evaluator.scores['ood']['near'].keys())\n",
    "print(evaluator.scores['ood']['far'].keys())"
   ]
  }
 ],
 "metadata": {
  "kernelspec": {
   "display_name": "testood",
   "language": "python",
   "name": "python3"
  },
  "language_info": {
   "codemirror_mode": {
    "name": "ipython",
    "version": 3
   },
   "file_extension": ".py",
   "mimetype": "text/x-python",
   "name": "python",
   "nbconvert_exporter": "python",
   "pygments_lexer": "ipython3",
   "version": "3.8.16"
  },
  "orig_nbformat": 4
 },
 "nbformat": 4,
 "nbformat_minor": 2
}
