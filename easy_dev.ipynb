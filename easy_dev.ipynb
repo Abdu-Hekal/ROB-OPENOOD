{
 "cells": [
  {
   "cell_type": "markdown",
   "id": "f09246e8",
   "metadata": {},
   "source": [
    "# Easy Dev for Post-hoc OOD Detectors"
   ]
  },
  {
   "cell_type": "markdown",
   "id": "accd903f",
   "metadata": {},
   "source": [
    "This notebook integrates some simple post-hoc OOD detection methods"
   ]
  },
  {
   "cell_type": "code",
   "execution_count": null,
   "id": "4dc297c1",
   "metadata": {},
   "outputs": [],
   "source": [
    "%load_ext autoreload\n",
    "%autoreload 2"
   ]
  },
  {
   "cell_type": "code",
   "execution_count": null,
   "id": "36c1655f",
   "metadata": {},
   "outputs": [],
   "source": []
  },
  {
   "cell_type": "code",
   "execution_count": null,
   "id": "5cded214",
   "metadata": {},
   "outputs": [],
   "source": []
  }
 ],
 "metadata": {
  "kernelspec": {
   "display_name": "Python 3.8.12 64-bit ('ood': conda)",
   "language": "python",
   "name": "python3812jvsc74a57bd0f1e6686d8157a72333d6c7290e12a7b16aa121841fdb309d8a83e0abefbefaae"
  },
  "language_info": {
   "codemirror_mode": {
    "name": "ipython",
    "version": 3
   },
   "file_extension": ".py",
   "mimetype": "text/x-python",
   "name": "python",
   "nbconvert_exporter": "python",
   "pygments_lexer": "ipython3",
   "version": "3.8.12"
  }
 },
 "nbformat": 4,
 "nbformat_minor": 5
}
